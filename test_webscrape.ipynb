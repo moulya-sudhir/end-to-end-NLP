{
 "cells": [
  {
   "cell_type": "code",
   "execution_count": 1,
   "metadata": {},
   "outputs": [],
   "source": [
    "from webscrape import scrape_pdfs"
   ]
  },
  {
   "cell_type": "code",
   "execution_count": 2,
   "metadata": {},
   "outputs": [
    {
     "data": {
      "application/vnd.jupyter.widget-view+json": {
       "model_id": "25e2bcc73bc5468f921ebb6cc8a839bb",
       "version_major": 2,
       "version_minor": 0
      },
      "text/plain": [
       "IntProgress(value=0, description='acl PDFs...', max=10, style=ProgressStyle(bar_color='green'))"
      ]
     },
     "metadata": {},
     "output_type": "display_data"
    },
    {
     "name": "stdout",
     "output_type": "stream",
     "text": [
      "Downloading file:  1\n",
      "Downloading file:  2\n",
      "Downloading file:  3\n",
      "Downloading file:  4\n",
      "Downloading file:  5\n",
      "Downloading file:  6\n",
      "Downloading file:  7\n",
      "Downloading file:  8\n",
      "Downloading file:  9\n",
      "Downloading file:  10\n",
      "Done.\n"
     ]
    }
   ],
   "source": [
    "scrape_pdfs('acl','2022',10)"
   ]
  },
  {
   "cell_type": "code",
   "execution_count": 3,
   "metadata": {},
   "outputs": [
    {
     "data": {
      "application/vnd.jupyter.widget-view+json": {
       "model_id": "627ba6eeea704ac29019a2abc171830f",
       "version_major": 2,
       "version_minor": 0
      },
      "text/plain": [
       "IntProgress(value=0, description='acl PDFs...', max=5, style=ProgressStyle(bar_color='green'))"
      ]
     },
     "metadata": {},
     "output_type": "display_data"
    },
    {
     "name": "stdout",
     "output_type": "stream",
     "text": [
      "Downloading file:  1\n",
      "Downloading file:  2\n",
      "Downloading file:  3\n",
      "Downloading file:  4\n",
      "Downloading file:  5\n",
      "Done.\n"
     ]
    }
   ],
   "source": [
    "scrape_pdfs('acl','2021',5)"
   ]
  },
  {
   "cell_type": "code",
   "execution_count": 4,
   "metadata": {},
   "outputs": [
    {
     "data": {
      "application/vnd.jupyter.widget-view+json": {
       "model_id": "e397783a4daa4d6ab6c633282c6965b5",
       "version_major": 2,
       "version_minor": 0
      },
      "text/plain": [
       "IntProgress(value=0, description='emnlp PDFs...', max=3, style=ProgressStyle(bar_color='green'))"
      ]
     },
     "metadata": {},
     "output_type": "display_data"
    },
    {
     "name": "stdout",
     "output_type": "stream",
     "text": [
      "Downloading file:  1\n",
      "Downloading file:  2\n",
      "Downloading file:  3\n",
      "Done.\n"
     ]
    }
   ],
   "source": [
    "scrape_pdfs('emnlp','2022',3)"
   ]
  },
  {
   "cell_type": "code",
   "execution_count": 5,
   "metadata": {},
   "outputs": [
    {
     "data": {
      "application/vnd.jupyter.widget-view+json": {
       "model_id": "db2bfeb5b9544332ba675ae917c82f71",
       "version_major": 2,
       "version_minor": 0
      },
      "text/plain": [
       "IntProgress(value=0, description='emnlp PDFs...', max=2, style=ProgressStyle(bar_color='green'))"
      ]
     },
     "metadata": {},
     "output_type": "display_data"
    },
    {
     "name": "stdout",
     "output_type": "stream",
     "text": [
      "Downloading file:  1\n",
      "Downloading file:  2\n",
      "Done.\n"
     ]
    }
   ],
   "source": [
    "scrape_pdfs('emnlp','2016',2)"
   ]
  }
 ],
 "metadata": {
  "kernelspec": {
   "display_name": "base",
   "language": "python",
   "name": "python3"
  },
  "language_info": {
   "codemirror_mode": {
    "name": "ipython",
    "version": 3
   },
   "file_extension": ".py",
   "mimetype": "text/x-python",
   "name": "python",
   "nbconvert_exporter": "python",
   "pygments_lexer": "ipython3",
   "version": "3.11.4"
  },
  "orig_nbformat": 4
 },
 "nbformat": 4,
 "nbformat_minor": 2
}
